{
 "cells": [
  {
   "cell_type": "code",
   "execution_count": 3,
   "id": "0a3cb5be-8ac1-464e-8b6b-176366036a5c",
   "metadata": {},
   "outputs": [],
   "source": [
    "import sys"
   ]
  },
  {
   "cell_type": "code",
   "execution_count": 4,
   "id": "912cf819-1321-445a-bfe5-b479a37f78f8",
   "metadata": {},
   "outputs": [
    {
     "data": {
      "text/plain": [
       "['/Users/brandongarcia/Desktop/projects/aiteacherassistant/api/notebooks',\n",
       " '/usr/local/Cellar/python@3.9/3.9.8/Frameworks/Python.framework/Versions/3.9/lib/python39.zip',\n",
       " '/usr/local/Cellar/python@3.9/3.9.8/Frameworks/Python.framework/Versions/3.9/lib/python3.9',\n",
       " '/usr/local/Cellar/python@3.9/3.9.8/Frameworks/Python.framework/Versions/3.9/lib/python3.9/lib-dynload',\n",
       " '',\n",
       " '/usr/local/lib/python3.9/site-packages']"
      ]
     },
     "execution_count": 4,
     "metadata": {},
     "output_type": "execute_result"
    }
   ],
   "source": [
    "sys.path"
   ]
  },
  {
   "cell_type": "code",
   "execution_count": 9,
   "id": "445d639c-d983-4383-9e32-ee69a626faad",
   "metadata": {},
   "outputs": [
    {
     "name": "stdout",
     "output_type": "stream",
     "text": [
      "/Users/brandongarcia/Desktop/projects/aiteacherassistant/api/src/venv/bin/python3: No module named /Users/brandongarcia/Desktop/projects/aiteacherassistant/api/src/venv/bin/python3\n"
     ]
    }
   ],
   "source": [
    "!python3 -m /Users/brandongarcia/Desktop/projects/aiteacherassistant/api/src/venv/bin/python3.9\""
   ]
  },
  {
   "cell_type": "code",
   "execution_count": null,
   "id": "ba8b76f4-fc3c-4171-9298-47531ffcfbab",
   "metadata": {},
   "outputs": [],
   "source": []
  }
 ],
 "metadata": {
  "kernelspec": {
   "display_name": "Python 3 (ipykernel)",
   "language": "python",
   "name": "python3"
  },
  "language_info": {
   "codemirror_mode": {
    "name": "ipython",
    "version": 3
   },
   "file_extension": ".py",
   "mimetype": "text/x-python",
   "name": "python",
   "nbconvert_exporter": "python",
   "pygments_lexer": "ipython3",
   "version": "3.9.8"
  }
 },
 "nbformat": 4,
 "nbformat_minor": 5
}
