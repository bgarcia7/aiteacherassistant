{
 "cells": [
  {
   "cell_type": "code",
   "execution_count": 1,
   "id": "c7aef6ee-90bd-454d-8b4d-22d7957e7b14",
   "metadata": {},
   "outputs": [
    {
     "ename": "ModuleNotFoundError",
     "evalue": "No module named 'selenium'",
     "output_type": "error",
     "traceback": [
      "\u001b[0;31m---------------------------------------------------------------------------\u001b[0m",
      "\u001b[0;31mModuleNotFoundError\u001b[0m                       Traceback (most recent call last)",
      "Input \u001b[0;32mIn [1]\u001b[0m, in \u001b[0;36m<module>\u001b[0;34m\u001b[0m\n\u001b[1;32m      1\u001b[0m \u001b[38;5;28;01mfrom\u001b[39;00m \u001b[38;5;21;01mtyping\u001b[39;00m \u001b[38;5;28;01mimport\u001b[39;00m ItemsView\n\u001b[1;32m      2\u001b[0m \u001b[38;5;28;01mfrom\u001b[39;00m \u001b[38;5;21;01mpandas\u001b[39;00m\u001b[38;5;21;01m.\u001b[39;00m\u001b[38;5;21;01mcore\u001b[39;00m\u001b[38;5;21;01m.\u001b[39;00m\u001b[38;5;21;01mframe\u001b[39;00m \u001b[38;5;28;01mimport\u001b[39;00m DataFrame\n\u001b[0;32m----> 3\u001b[0m \u001b[38;5;28;01mfrom\u001b[39;00m \u001b[38;5;21;01mselenium\u001b[39;00m \u001b[38;5;28;01mimport\u001b[39;00m webdriver\n\u001b[1;32m      4\u001b[0m \u001b[38;5;28;01mfrom\u001b[39;00m \u001b[38;5;21;01mwebdriver_manager\u001b[39;00m\u001b[38;5;21;01m.\u001b[39;00m\u001b[38;5;21;01mchrome\u001b[39;00m \u001b[38;5;28;01mimport\u001b[39;00m ChromeDriverManager\n\u001b[1;32m      5\u001b[0m \u001b[38;5;28;01mfrom\u001b[39;00m \u001b[38;5;21;01mselenium\u001b[39;00m\u001b[38;5;21;01m.\u001b[39;00m\u001b[38;5;21;01mwebdriver\u001b[39;00m\u001b[38;5;21;01m.\u001b[39;00m\u001b[38;5;21;01mchrome\u001b[39;00m\u001b[38;5;21;01m.\u001b[39;00m\u001b[38;5;21;01moptions\u001b[39;00m \u001b[38;5;28;01mimport\u001b[39;00m Options\n",
      "\u001b[0;31mModuleNotFoundError\u001b[0m: No module named 'selenium'"
     ]
    }
   ],
   "source": [
    "from typing import ItemsView\n",
    "from pandas.core.frame import DataFrame\n",
    "from selenium import webdriver\n",
    "from webdriver_manager.chrome import ChromeDriverManager\n",
    "from selenium.webdriver.chrome.options import Options\n",
    "import pandas as pd\n",
    "import time\n",
    "\n",
    "\n",
    "chromedriver = ChromeDriverManager().install()\n",
    "keywords = pd.read_csv('input/scientific_botanical_names_veggies_fruits.csv', sep=\",\")\n",
    "\n",
    "def search_google(search_query):\n",
    "    search_url = f\"https://www.google.com/search?site=&tbm=isch&source=hp&biw=1873&bih=990&q={search_query}\"\n",
    "\n",
    "    options = webdriver.ChromeOptions()\n",
    "    options.add_argument('--headless')\n",
    "    options.add_argument('--no-sandbox')\n",
    "    options.add_argument('--disable-gpu')\n",
    "    options.add_argument('--disable-web-security')\n",
    "    options.add_argument('--allow-running-insecure-content')\n",
    "    options.add_argument('--allow-cross-origin-auth-prompt')\n",
    "\n",
    "    browser = webdriver.Chrome(chromedriver, options=options)\n",
    "\n",
    "    # Open browser to begin search\n",
    "    browser.get(search_url)\n",
    "\n",
    "    # XPath for the 1st image that appears in Google: //*[@id=\"islrg\"]/div[1]/div[1]/a[1]/div[1]/img\n",
    "    img_box = browser.find_element_by_xpath('//*[@id=\"islrg\"]/div[1]/div[1]/a[1]/div[1]/img')\n",
    "    # Click on the thumbnail\n",
    "    img_box.click()\n",
    "\n",
    "    # XPath of the image display \n",
    "    fir_img = browser.find_element_by_xpath('//*[@id=\"Sva75c\"]/div/div/div[3]/div[2]/c-wiz/div/div[1]/div[1]/div[2]/div[1]/a/img')\n",
    "\n",
    "    # Wait between interaction\n",
    "    time.sleep(3)\n",
    "    fir_img.click()\n",
    "\n",
    "    # Retrieve attribute of src from the element\n",
    "    img_src = fir_img.get_attribute('src')\n",
    "\n",
    "    return img_src"
   ]
  },
  {
   "cell_type": "code",
   "execution_count": 3,
   "id": "29aff01e-2bd1-41a4-9d62-32f7838962f2",
   "metadata": {},
   "outputs": [],
   "source": [
    "import sys\n"
   ]
  },
  {
   "cell_type": "code",
   "execution_count": 5,
   "id": "307c97b1-6145-4588-9559-bbe94dd5a562",
   "metadata": {},
   "outputs": [
    {
     "data": {
      "text/plain": [
       "['/Users/brandongarcia/Desktop/projects/aiteacherassistant/api/notebooks',\n",
       " '/usr/local/Cellar/python@3.9/3.9.8/Frameworks/Python.framework/Versions/3.9/lib/python39.zip',\n",
       " '/usr/local/Cellar/python@3.9/3.9.8/Frameworks/Python.framework/Versions/3.9/lib/python3.9',\n",
       " '/usr/local/Cellar/python@3.9/3.9.8/Frameworks/Python.framework/Versions/3.9/lib/python3.9/lib-dynload',\n",
       " '',\n",
       " '/usr/local/lib/python3.9/site-packages']"
      ]
     },
     "execution_count": 5,
     "metadata": {},
     "output_type": "execute_result"
    }
   ],
   "source": [
    "sys.path"
   ]
  },
  {
   "cell_type": "code",
   "execution_count": null,
   "id": "36999e8c-0a06-4835-a348-9a92d759962e",
   "metadata": {},
   "outputs": [],
   "source": [
    "\n"
   ]
  }
 ],
 "metadata": {
  "kernelspec": {
   "display_name": "Python 3 (ipykernel)",
   "language": "python",
   "name": "python3"
  },
  "language_info": {
   "codemirror_mode": {
    "name": "ipython",
    "version": 3
   },
   "file_extension": ".py",
   "mimetype": "text/x-python",
   "name": "python",
   "nbconvert_exporter": "python",
   "pygments_lexer": "ipython3",
   "version": "3.9.8"
  }
 },
 "nbformat": 4,
 "nbformat_minor": 5
}
