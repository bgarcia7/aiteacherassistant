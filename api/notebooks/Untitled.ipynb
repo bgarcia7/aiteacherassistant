{
 "cells": [
  {
   "cell_type": "code",
   "execution_count": null,
   "id": "ee7e1646-8313-47e4-bc31-8a85fbd5c0a7",
   "metadata": {},
   "outputs": [],
   "source": [
    "from langchain.prompts import PromptTemplate\n",
    "from langchain.llms import OpenAI\n",
    "\n",
    "# instantiate llm\n",
    "llm = OpenAI(temperature=0.9)\n",
    "print(llm('what is a good name for a socks company'))\n",
    "\n",
    "# create prompt template\n",
    "prompt = PromptTemplate(\n",
    "    input_variables=[\"product\", \"attribute\"],\n",
    "    template=\"What is a good name for a company that makes {product} with {attribute}?\",\n",
    ")\n",
    "\n",
    "# rn llm with prompt\n",
    "print(llm(prompt.format(product=\"sweet tea\", attribute=\"donuts\")))"
   ]
  },
  {
   "cell_type": "code",
   "execution_count": null,
   "id": "98db7472-0ab6-4a6a-ae08-51d7782b8093",
   "metadata": {},
   "outputs": [],
   "source": [
    "import openai\n",
    "openai.organization = os.environ.get('OPENAI_ORG')\n",
    "openai.api_key = os.environ.get('OPENAI_KEY')\n",
    "\n",
    "response = openai.Completion.create(\n",
    "        model=\"text-davinci-003\",\n",
    "        prompt=\"GIVE ME THE ANSWER\",\n",
    "        temperature=0.5,\n",
    "        max_tokens=1500,\n",
    "        top_p=1,\n",
    "        frequency_penalty=1,\n",
    "        presence_penalty=1\n",
    "    )"
   ]
  }
 ],
 "metadata": {
  "kernelspec": {
   "display_name": "Python 3 (ipykernel)",
   "language": "python",
   "name": "python3"
  },
  "language_info": {
   "codemirror_mode": {
    "name": "ipython",
    "version": 3
   },
   "file_extension": ".py",
   "mimetype": "text/x-python",
   "name": "python",
   "nbconvert_exporter": "python",
   "pygments_lexer": "ipython3",
   "version": "3.9.8"
  }
 },
 "nbformat": 4,
 "nbformat_minor": 5
}
